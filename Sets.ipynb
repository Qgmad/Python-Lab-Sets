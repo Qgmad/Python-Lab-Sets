{
 "cells": [
  {
   "cell_type": "code",
   "execution_count": 1,
   "metadata": {},
   "outputs": [],
   "source": [
    "#Create Set\n",
    "a={\"a\",\"x\",\"y\"}\n",
    "print(a)"
   ]
  },
  {
   "cell_type": "code",
   "execution_count": 2,
   "metadata": {},
   "outputs": [
    {
     "name": "stdout",
     "output_type": "stream",
     "text": [
      "{'a', 'c', 'x', 'y'}\n"
     ]
    }
   ],
   "source": [
    "#Add Element to set\n",
    "a={\"a\",\"x\",\"y\"}\n",
    "a.add(\"c\")\n",
    "print(a)"
   ]
  },
  {
   "cell_type": "code",
   "execution_count": 3,
   "metadata": {},
   "outputs": [
    {
     "name": "stdout",
     "output_type": "stream",
     "text": [
      "{'p', 'q', 'a', 'x', 'y', 'r'}\n"
     ]
    }
   ],
   "source": [
    "#Add multiple items using update\n",
    "a={\"a\",\"x\",\"y\"}\n",
    "a.update([\"p\",\"q\",\"r\"])\n",
    "print(a)"
   ]
  },
  {
   "cell_type": "code",
   "execution_count": 4,
   "metadata": {},
   "outputs": [
    {
     "name": "stdout",
     "output_type": "stream",
     "text": [
      "{'p', 'q', 'a', 'x', 'y', 'r'}\n",
      "6\n"
     ]
    }
   ],
   "source": [
    "#Find length of set\n",
    "a={\"a\",\"x\",\"y\"}\n",
    "a.update([\"p\",\"q\",\"r\"])\n",
    "print(a)\n",
    "print(len(a))"
   ]
  },
  {
   "cell_type": "code",
   "execution_count": 5,
   "metadata": {},
   "outputs": [
    {
     "name": "stdout",
     "output_type": "stream",
     "text": [
      "{'a', 'x', 'y'}\n",
      "{'a', 'y'}\n"
     ]
    }
   ],
   "source": [
    "#Remove value from set\n",
    "a={\"a\",\"x\",\"y\"}\n",
    "print(a)\n",
    "a.remove(\"x\")\n",
    "print(a)"
   ]
  },
  {
   "cell_type": "code",
   "execution_count": 6,
   "metadata": {},
   "outputs": [
    {
     "name": "stdout",
     "output_type": "stream",
     "text": [
      "{'a', 'x', 'y'}\n",
      "a\n"
     ]
    }
   ],
   "source": [
    "#pop an element from set\n",
    "a={\"a\",\"x\",\"y\"}\n",
    "print(a)\n",
    "b=a.pop()\n",
    "print(b)"
   ]
  },
  {
   "cell_type": "code",
   "execution_count": 7,
   "metadata": {},
   "outputs": [
    {
     "name": "stdout",
     "output_type": "stream",
     "text": [
      "{1, 2, 3, 'x', 'y', 'a'}\n"
     ]
    }
   ],
   "source": [
    "#Update Set\n",
    "a={\"a\",\"x\",\"y\"}\n",
    "b={1,2,3}\n",
    "a.update(b)\n",
    "print(a)"
   ]
  },
  {
   "cell_type": "code",
   "execution_count": 8,
   "metadata": {},
   "outputs": [
    {
     "name": "stdout",
     "output_type": "stream",
     "text": [
      "{'x', 'y'}\n"
     ]
    }
   ],
   "source": [
    "#Create intersection of sets\n",
    "a={\"a\",\"x\",\"y\"}\n",
    "b={1,2,3,\"x\",\"y\"}\n",
    "c=(a.intersection(b))\n",
    "print(c)"
   ]
  },
  {
   "cell_type": "code",
   "execution_count": 9,
   "metadata": {},
   "outputs": [
    {
     "name": "stdout",
     "output_type": "stream",
     "text": [
      "{1, 2, 3, 'x', 'y', 'a'}\n"
     ]
    }
   ],
   "source": [
    "#Create Union of sets\n",
    "a={\"a\",\"x\",\"y\"}\n",
    "b={1,2,3}\n",
    "c=a.union(b)\n",
    "print(c)"
   ]
  },
  {
   "cell_type": "code",
   "execution_count": 10,
   "metadata": {},
   "outputs": [
    {
     "name": "stdout",
     "output_type": "stream",
     "text": [
      "{'a', 'x', 'y'}\n",
      "set()\n"
     ]
    }
   ],
   "source": [
    "#Clear a set\n",
    "a={\"a\",\"x\",\"y\"}\n",
    "print(a)\n",
    "a.clear()\n",
    "print(a)"
   ]
  },
  {
   "cell_type": "code",
   "execution_count": 11,
   "metadata": {},
   "outputs": [
    {
     "name": "stdout",
     "output_type": "stream",
     "text": [
      "a.issubset(b) :  True\n",
      "b.issuperset(a) :  True\n"
     ]
    }
   ],
   "source": [
    "#issubset and issuperset\n",
    "a={4,1,3,5} \n",
    "b={6,0,4,1,5,0,3,5} \n",
    "print(\"a.issubset(b) : \", a.issubset(b)) \n",
    "print(\"b.issuperset(a) : \", b.issuperset(a)) "
   ]
  },
  {
   "cell_type": "code",
   "execution_count": 12,
   "metadata": {},
   "outputs": [
    {
     "name": "stdout",
     "output_type": "stream",
     "text": [
      "{0, 1, 3, 4, 5, 6}\n",
      "{8}\n"
     ]
    }
   ],
   "source": [
    "#Create set difference \n",
    "a={6,0,4,1,5,0,3,5} \n",
    "print(a)\n",
    "b={8,3,5}\n",
    "a=b.difference(a)\n",
    "print(a)"
   ]
  },
  {
   "cell_type": "code",
   "execution_count": 13,
   "metadata": {},
   "outputs": [
    {
     "name": "stdout",
     "output_type": "stream",
     "text": [
      "{0, 1, 3, 4, 5, 6}\n",
      "{0, 1, 4, 6, 8}\n"
     ]
    }
   ],
   "source": [
    "#Create Symmetric difference\n",
    "a={6,0,4,1,5,0,3,5} \n",
    "print(a)\n",
    "b={8,3,5}\n",
    "a=b.symmetric_difference(a)\n",
    "print(a)"
   ]
  },
  {
   "cell_type": "code",
   "execution_count": null,
   "metadata": {},
   "outputs": [],
   "source": []
  }
 ],
 "metadata": {
  "kernelspec": {
   "display_name": "Python 3",
   "language": "python",
   "name": "python3"
  },
  "language_info": {
   "codemirror_mode": {
    "name": "ipython",
    "version": 3
   },
   "file_extension": ".py",
   "mimetype": "text/x-python",
   "name": "python",
   "nbconvert_exporter": "python",
   "pygments_lexer": "ipython3",
   "version": "3.7.6"
  }
 },
 "nbformat": 4,
 "nbformat_minor": 4
}
